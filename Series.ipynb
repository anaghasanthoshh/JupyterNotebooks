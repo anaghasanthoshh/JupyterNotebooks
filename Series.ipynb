{
 "cells": [
  {
   "cell_type": "code",
   "execution_count": 1,
   "id": "e563e4f6-ac9e-4055-b935-0202b9a821be",
   "metadata": {},
   "outputs": [],
   "source": [
    "#Series\n",
    "import numpy as np\n",
    "import pandas as pd"
   ]
  },
  {
   "cell_type": "code",
   "execution_count": 2,
   "id": "8c56216d-f072-4fc3-b9c7-4b730b8c5eef",
   "metadata": {},
   "outputs": [],
   "source": [
    "myindex=['USA','Canada','Mexico']\n",
    "mydata=[1776,1867,1821]"
   ]
  },
  {
   "cell_type": "code",
   "execution_count": 3,
   "id": "73fda66b-274e-408a-8f0e-80745a900cc6",
   "metadata": {},
   "outputs": [],
   "source": [
    "myser=pd.Series(data=mydata)\n"
   ]
  },
  {
   "cell_type": "code",
   "execution_count": 5,
   "id": "41e20e88-ffbc-4d08-a3a7-c503f875745f",
   "metadata": {},
   "outputs": [
    {
     "data": {
      "text/plain": [
       "pandas.core.series.Series"
      ]
     },
     "execution_count": 5,
     "metadata": {},
     "output_type": "execute_result"
    }
   ],
   "source": [
    "type(myser)"
   ]
  },
  {
   "cell_type": "code",
   "execution_count": 6,
   "id": "33421225-dd90-440f-929e-7dcea3b3d22f",
   "metadata": {},
   "outputs": [
    {
     "data": {
      "text/plain": [
       "0    1776\n",
       "1    1867\n",
       "2    1821\n",
       "dtype: int64"
      ]
     },
     "execution_count": 6,
     "metadata": {},
     "output_type": "execute_result"
    }
   ],
   "source": [
    "myser"
   ]
  },
  {
   "cell_type": "code",
   "execution_count": 8,
   "id": "c6e5d47a-00c7-4063-b12b-49d541143de3",
   "metadata": {},
   "outputs": [
    {
     "data": {
      "text/plain": [
       "USA       1776\n",
       "Canada    1867\n",
       "Mexico    1821\n",
       "dtype: int64"
      ]
     },
     "execution_count": 8,
     "metadata": {},
     "output_type": "execute_result"
    }
   ],
   "source": [
    "myser=pd.Series(data=mydata,index=myindex)\n",
    "myser"
   ]
  },
  {
   "cell_type": "code",
   "execution_count": 9,
   "id": "04522c05-566b-468d-aba6-79c770d7f713",
   "metadata": {},
   "outputs": [
    {
     "data": {
      "text/plain": [
       "anu     29\n",
       "isha     3\n",
       "dtype: int64"
      ]
     },
     "execution_count": 9,
     "metadata": {},
     "output_type": "execute_result"
    }
   ],
   "source": [
    "#creating series from dict\n",
    "ages={'anu':29,'isha':3}\n",
    "pd.Series(ages)"
   ]
  },
  {
   "cell_type": "code",
   "execution_count": 10,
   "id": "756f2c3d-ea74-413e-8177-24307bc4e134",
   "metadata": {},
   "outputs": [],
   "source": [
    "#some imaginary sales data\n",
    "q1={'japan':80,'china':450,'india':200}\n",
    "q2={'brazil':100,'china':500,'india':210}"
   ]
  },
  {
   "cell_type": "code",
   "execution_count": 11,
   "id": "4f0c8952-6cd8-4115-ae3e-2f8c74073963",
   "metadata": {},
   "outputs": [],
   "source": [
    "sales_q1=pd.Series(q1)\n",
    "sales_q2=pd.Series(q2)"
   ]
  },
  {
   "cell_type": "code",
   "execution_count": 12,
   "id": "4df80cec-7cc0-4ef3-ab76-2217ebc9bd16",
   "metadata": {},
   "outputs": [
    {
     "data": {
      "text/plain": [
       "japan     80\n",
       "china    450\n",
       "india    200\n",
       "dtype: int64"
      ]
     },
     "execution_count": 12,
     "metadata": {},
     "output_type": "execute_result"
    }
   ],
   "source": [
    "sales_q1"
   ]
  },
  {
   "cell_type": "code",
   "execution_count": 13,
   "id": "a39036cd-93d2-4b96-9bfb-e14853f0eb82",
   "metadata": {},
   "outputs": [
    {
     "data": {
      "text/plain": [
       "brazil    100\n",
       "china     500\n",
       "india     210\n",
       "dtype: int64"
      ]
     },
     "execution_count": 13,
     "metadata": {},
     "output_type": "execute_result"
    }
   ],
   "source": [
    "sales_q2"
   ]
  },
  {
   "cell_type": "code",
   "execution_count": 14,
   "id": "1842e6eb-edd8-449a-b69a-f697546b99d1",
   "metadata": {},
   "outputs": [
    {
     "data": {
      "text/plain": [
       "Index(['japan', 'china', 'india'], dtype='object')"
      ]
     },
     "execution_count": 14,
     "metadata": {},
     "output_type": "execute_result"
    }
   ],
   "source": [
    "sales_q1.keys() #to find the keys"
   ]
  },
  {
   "cell_type": "code",
   "execution_count": 15,
   "id": "004387d0-e082-4c44-9836-0e3d07c79bc2",
   "metadata": {},
   "outputs": [
    {
     "data": {
      "text/plain": [
       "brazil      NaN\n",
       "china     950.0\n",
       "india     410.0\n",
       "japan       NaN\n",
       "dtype: float64"
      ]
     },
     "execution_count": 15,
     "metadata": {},
     "output_type": "execute_result"
    }
   ],
   "source": [
    "sales_q1+sales_q2\n",
    "#doesnt know to handle when labels not present in tboth the series.\n",
    "#Hence let us look at add"
   ]
  },
  {
   "cell_type": "code",
   "execution_count": 16,
   "id": "94cdb338-5d2e-44dc-a8f9-42ccf25d80ab",
   "metadata": {},
   "outputs": [
    {
     "data": {
      "text/plain": [
       "brazil    100.0\n",
       "china     950.0\n",
       "india     410.0\n",
       "japan      80.0\n",
       "dtype: float64"
      ]
     },
     "execution_count": 16,
     "metadata": {},
     "output_type": "execute_result"
    }
   ],
   "source": [
    "sales_q1.add(sales_q2,fill_value=0)"
   ]
  },
  {
   "cell_type": "code",
   "execution_count": null,
   "id": "aa1c67cf-c861-46aa-86a6-b91d611a5262",
   "metadata": {},
   "outputs": [],
   "source": []
  }
 ],
 "metadata": {
  "kernelspec": {
   "display_name": "Python 3 (ipykernel)",
   "language": "python",
   "name": "python3"
  },
  "language_info": {
   "codemirror_mode": {
    "name": "ipython",
    "version": 3
   },
   "file_extension": ".py",
   "mimetype": "text/x-python",
   "name": "python",
   "nbconvert_exporter": "python",
   "pygments_lexer": "ipython3",
   "version": "3.11.7"
  }
 },
 "nbformat": 4,
 "nbformat_minor": 5
}
